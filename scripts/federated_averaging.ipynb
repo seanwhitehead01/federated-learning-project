{
 "cells": [
  {
   "cell_type": "code",
   "execution_count": null,
   "id": "f5abedaf",
   "metadata": {},
   "outputs": [],
   "source": [
    "\"\"\"Federated Learning Hyperparameters Configuration.\n",
    "Change this cell to set the hyperparameters for your federated learning experiment.\"\"\"\n",
    "\n",
    "# Number of clients\n",
    "K = 100\n",
    "# Classes per client\n",
    "N = 100\n",
    "# Fraction of clients\n",
    "C = 0.1\n",
    "# Number of local steps\n",
    "J = 4"
   ]
  },
  {
   "cell_type": "code",
   "execution_count": null,
   "id": "18be28b3",
   "metadata": {},
   "outputs": [],
   "source": [
    "import os\n",
    "import torch\n",
    "import torch.nn as nn\n",
    "import matplotlib.pyplot as plt\n",
    "import random\n",
    "from data.cifar100_loader import get_federated_cifar100_dataloaders\n",
    "from model.prepare_model import get_dino_vits16_model, freeze_backbone\n",
    "from model.hyperparameter_tuning import run_grid_search_federated\n",
    "from eval import evaluate\n",
    "from train import train\n",
    "from model.federated_averaging import get_trainable_keys, train_on_client, average_metrics, average_models"
   ]
  },
  {
   "cell_type": "code",
   "execution_count": null,
   "id": "5d8292ce",
   "metadata": {},
   "outputs": [],
   "source": [
    "# Set device\n",
    "device = torch.device(\"cuda\" if torch.cuda.is_available() else \"cpu\")\n",
    "\n",
    "# Directories for data and checkpoints\n",
    "CHECKPOINT_DIR = './checkpoints'\n",
    "os.makedirs(CHECKPOINT_DIR, exist_ok=True)"
   ]
  },
  {
   "cell_type": "code",
   "execution_count": null,
   "id": "8c2c6357",
   "metadata": {},
   "outputs": [],
   "source": [
    "# Create dataloaders for the clients\n",
    "federated_test = False\n",
    "train_datasets, val_loader, test_loaders, client_class_map = get_federated_cifar100_dataloaders(K, N, \n",
    "                                                                                                  federatedTest=federated_test, val_split=0.1)\n",
    "\n",
    "criterion = nn.CrossEntropyLoss()"
   ]
  },
  {
   "cell_type": "code",
   "execution_count": null,
   "id": "bf35c4ef",
   "metadata": {},
   "outputs": [],
   "source": [
    "# Define hyperparameter configurations\n",
    "configs = [\n",
    "    {'lr': 0.01},\n",
    "    {'lr': 0.005},\n",
    "    {'lr': 0.001}\n",
    "]\n",
    "\n",
    "# Hyperparameter tuning\n",
    "best_result, results = run_grid_search_federated(train_datasets, val_loader, get_dino_vits16_model, \n",
    "                                              criterion, configs, num_clients=K, C=C, steps=J, device=device)"
   ]
  },
  {
   "cell_type": "code",
   "execution_count": null,
   "id": "aa7a0139",
   "metadata": {},
   "outputs": [],
   "source": [
    "# Retrieve the best configuration and results\n",
    "best_cfg = best_result['cfg']\n",
    "\n",
    "# Load the model for federated learning\n",
    "collaborative_model = get_dino_vits16_model(device)\n",
    "\n",
    "freeze_backbone(collaborative_model)"
   ]
  },
  {
   "cell_type": "code",
   "execution_count": null,
   "id": "9d4042e4",
   "metadata": {},
   "outputs": [],
   "source": [
    "train_datasets, _, test_loaders, client_class_map = get_federated_cifar100_dataloaders(K, N,\n",
    "                                                                                        federatedTest=federated_test, val_split=0)"
   ]
  },
  {
   "cell_type": "code",
   "execution_count": null,
   "id": "4b9f51d3",
   "metadata": {},
   "outputs": [],
   "source": [
    "start_round = 0\n",
    "num_rounds = 800 // J\n",
    "best_test_acc = 0.0\n",
    "\n",
    "hist_train_loss = []\n",
    "hist_train_acc = []\n",
    "hist_test_loss = []\n",
    "hist_test_acc = []\n",
    "\n",
    "random.seed(42)"
   ]
  },
  {
   "cell_type": "code",
   "execution_count": null,
   "id": "21a74373",
   "metadata": {},
   "outputs": [],
   "source": [
    "# FedAvg loop\n",
    "for round in range(start_round, start_round + num_rounds):\n",
    "    print(f\"\\n--- Round {round + 1}/{start_round + num_rounds} ---\")\n",
    "\n",
    "    # Select clients\n",
    "    selected_clients = random.sample(range(K), int(C * K))\n",
    "\n",
    "    # Local training\n",
    "    local_models, train_losses, train_accs = [], [], []\n",
    "    for client_id in selected_clients:\n",
    "        model_state, loss, acc = train_on_client(\n",
    "            client_id,\n",
    "            collaborative_model,\n",
    "            train_datasets[client_id],\n",
    "            J,\n",
    "            criterion,\n",
    "            best_cfg['lr'],\n",
    "            device\n",
    "        )\n",
    "        local_models.append(model_state)\n",
    "        train_losses.append(loss)\n",
    "        train_accs.append(acc)\n",
    "\n",
    "    # Weighting by dataset size\n",
    "    client_sample_counts = [len(train_datasets[c]) for c in selected_clients]\n",
    "    total_samples = sum(client_sample_counts)\n",
    "    client_weights = [count / total_samples for count in client_sample_counts]\n",
    "\n",
    "    # Federated averaging\n",
    "    trainable_keys = get_trainable_keys(collaborative_model)\n",
    "    averaged_state = average_models(local_models, client_weights, trainable_keys)\n",
    "    new_state = collaborative_model.state_dict()\n",
    "    for key in averaged_state:\n",
    "        new_state[key] = averaged_state[key]\n",
    "    collaborative_model.load_state_dict(new_state)\n",
    "\n",
    "    # Log average training metrics\n",
    "    avg_train_loss = average_metrics(train_losses, client_weights)\n",
    "    avg_train_acc = average_metrics(train_accs, client_weights)\n",
    "    print(f\"Avg Train Loss: {avg_train_loss:.4f}, Avg Train Accuracy: {avg_train_acc:.4f}\")\n",
    "    hist_train_loss.append(avg_train_loss)\n",
    "    hist_train_acc.append(avg_train_acc)\n",
    "\n",
    "    if federated_test:\n",
    "        # Evaluation on all clients\n",
    "        test_losses, test_accs = [], []\n",
    "        for client_id in range(K):\n",
    "            loss, acc = evaluate(collaborative_model, test_loaders[client_id], criterion, device)\n",
    "            test_losses.append(loss)\n",
    "            test_accs.append(acc)\n",
    "\n",
    "        # Weighted test metrics\n",
    "        test_sample_counts = [len(test_loaders[c].dataset) for c in range(K)]\n",
    "        total_test_samples = sum(test_sample_counts)\n",
    "        test_weights = [count / total_test_samples for count in test_sample_counts]\n",
    "\n",
    "        avg_test_loss = average_metrics(test_losses, test_weights)\n",
    "        avg_test_acc = average_metrics(test_accs, test_weights)\n",
    "    else:\n",
    "        # Evaluation on the aggregated test set\n",
    "        avg_test_loss, avg_test_acc = evaluate(collaborative_model, test_loaders, criterion, device)\n",
    "        \n",
    "    print(f\"Avg Test Loss: {avg_test_loss:.4f}, Avg Test Accuracy: {avg_test_acc:.4f}\")\n",
    "    hist_test_loss.append(avg_test_loss)\n",
    "    hist_test_acc.append(avg_test_acc)\n",
    "\n",
    "    # Save the model each 10 rounds\n",
    "    if (round + 1) % 10 == 0:\n",
    "        checkpoint_path = os.path.join(CHECKPOINT_DIR, f\"federated_round_{round + 1}_{N}class.pth\")\n",
    "        torch.save(collaborative_model.state_dict(), checkpoint_path)"
   ]
  },
  {
   "cell_type": "code",
   "execution_count": null,
   "id": "c54f5c6a",
   "metadata": {},
   "outputs": [],
   "source": [
    "# Plot the training and test loss\n",
    "plt.plot(hist_train_loss, label='Train Loss')\n",
    "plt.plot(hist_test_loss, label='Test Loss')\n",
    "plt.xlabel('Rounds')\n",
    "plt.ylabel('Loss')\n",
    "plt.legend()\n",
    "plt.show()"
   ]
  },
  {
   "cell_type": "code",
   "execution_count": null,
   "id": "d61b5ea9",
   "metadata": {},
   "outputs": [],
   "source": [
    "# Plot the training and test accuracy\n",
    "plt.plot(hist_train_acc, label='Train Accuracy')\n",
    "plt.plot(hist_test_acc, label='Test Accuracy')\n",
    "plt.xlabel('Rounds')\n",
    "plt.ylabel('Accuracy')\n",
    "plt.legend()\n",
    "plt.show()"
   ]
  }
 ],
 "metadata": {
  "kernelspec": {
   "display_name": "Python 3",
   "language": "python",
   "name": "python3"
  },
  "language_info": {
   "codemirror_mode": {
    "name": "ipython",
    "version": 3
   },
   "file_extension": ".py",
   "mimetype": "text/x-python",
   "name": "python",
   "nbconvert_exporter": "python",
   "pygments_lexer": "ipython3",
   "version": "3.12.7"
  }
 },
 "nbformat": 4,
 "nbformat_minor": 5
}

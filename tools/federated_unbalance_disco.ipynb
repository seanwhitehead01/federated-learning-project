{
 "cells": [
  {
   "cell_type": "code",
   "execution_count": null,
   "id": "2e292cb8",
   "metadata": {},
   "outputs": [],
   "source": [
    "# Clone github repository\n",
    "!git clone --branch personal-contribution https://github.com/AlessandroMaini/federated-learning-project.git"
   ]
  },
  {
   "cell_type": "code",
   "execution_count": null,
   "id": "5bc19809",
   "metadata": {},
   "outputs": [],
   "source": [
    "%cd federated-learning-project"
   ]
  },
  {
   "cell_type": "code",
   "execution_count": null,
   "id": "93f6d141",
   "metadata": {},
   "outputs": [],
   "source": [
    "import torch\n",
    "import torch.nn as nn\n",
    "import os\n",
    "import matplotlib.pyplot as plt\n",
    "import random\n",
    "from data.cifar100_loader import get_unbalanced_cifar100_datasets\n",
    "from eval import evaluate\n",
    "from train import train, train_steps\n",
    "from models.prepare_model import get_dino_vits16_model, freeze_backbone, unfreeze_backbone, freeze_head, unfreeze_head\n",
    "from models.unbalance import compute_kl_discrepancy, compute_discrepancy_aware_weights_sigmoid\n",
    "from models.model_editing import mask_calculator, freeze_and_clean_client_masks\n",
    "from models.federated_averaging import train_on_client, average_metrics, average_models, get_trainable_keys\n",
    "from tqdm import tqdm"
   ]
  },
  {
   "cell_type": "code",
   "execution_count": null,
   "id": "8321241a",
   "metadata": {},
   "outputs": [],
   "source": [
    "baseline = True"
   ]
  },
  {
   "cell_type": "code",
   "execution_count": null,
   "id": "9bc63a55",
   "metadata": {},
   "outputs": [],
   "source": [
    "# Set device\n",
    "device = torch.device(\"cuda\" if torch.cuda.is_available() else \"cpu\")\n",
    "\n",
    "# Directories\n",
    "CHECKPOINT_DIR = './checkpoints'\n",
    "os.makedirs(CHECKPOINT_DIR, exist_ok=True)"
   ]
  },
  {
   "cell_type": "code",
   "execution_count": null,
   "id": "81ec17de",
   "metadata": {},
   "outputs": [],
   "source": [
    "# Number of clients\n",
    "K = 45\n",
    "# Fraction of clients\n",
    "C = 0.2\n",
    "# Number of local steps\n",
    "J = 64"
   ]
  },
  {
   "cell_type": "code",
   "execution_count": null,
   "id": "5f1a4453",
   "metadata": {},
   "outputs": [],
   "source": [
    "# Create dataloaders for the clients\n",
    "train_datasets, test_loader, client_class_map, client_metadata = get_unbalanced_cifar100_datasets(K) # Default division by size and bias\n",
    "\n",
    "criterion = nn.CrossEntropyLoss()"
   ]
  },
  {
   "cell_type": "code",
   "execution_count": null,
   "id": "9bfa6bf4",
   "metadata": {},
   "outputs": [],
   "source": [
    "# Compute KL divergence for each client\n",
    "discrepancies = []\n",
    "for client_dataset in train_datasets:\n",
    "    kl_div = compute_kl_discrepancy(client_dataset)\n",
    "    discrepancies.append(kl_div)"
   ]
  },
  {
   "cell_type": "code",
   "execution_count": null,
   "id": "e5b3111f",
   "metadata": {},
   "outputs": [],
   "source": [
    "client_sizes = [len(dataset) for dataset in train_datasets]\n",
    "weights_disc = compute_discrepancy_aware_weights_sigmoid (client_sizes, discrepancies, tau=0.1)"
   ]
  },
  {
   "cell_type": "code",
   "execution_count": null,
   "id": "a5d3006f",
   "metadata": {},
   "outputs": [],
   "source": [
    "# Plot client sizes\n",
    "plt.figure(figsize=(10, 5))\n",
    "plt.bar(range(K), client_sizes, color='blue', alpha=0.7)\n",
    "plt.xlabel('Client ID')\n",
    "plt.ylabel('Number of samples')\n",
    "plt.title('Number of samples per client')\n",
    "plt.xticks(range(K), rotation=90)\n",
    "plt.tight_layout()\n",
    "plt.show()"
   ]
  },
  {
   "cell_type": "code",
   "execution_count": null,
   "id": "29d745ad",
   "metadata": {},
   "outputs": [],
   "source": [
    "# Plot client discrepancies\n",
    "plt.figure(figsize=(10, 5))\n",
    "plt.bar(range(K), discrepancies, color='orange', alpha=0.7)\n",
    "plt.xlabel('Client ID')\n",
    "plt.ylabel('Discrepancy')\n",
    "plt.title('Discrepancy per client')\n",
    "plt.xticks(range(K), rotation=90)\n",
    "plt.tight_layout()\n",
    "plt.show()"
   ]
  },
  {
   "cell_type": "code",
   "execution_count": null,
   "id": "dcac1942",
   "metadata": {},
   "outputs": [],
   "source": [
    "# Plot client weights\n",
    "plt.figure(figsize=(10, 5))\n",
    "plt.bar(range(K), weights_disc, color='green', alpha=0.7)\n",
    "plt.xlabel('Client ID')\n",
    "plt.ylabel('Client weight')\n",
    "plt.title('Client weights')\n",
    "plt.xticks(range(K), rotation=90)\n",
    "plt.tight_layout()\n",
    "plt.show()"
   ]
  },
  {
   "cell_type": "code",
   "execution_count": null,
   "id": "6a3198f0",
   "metadata": {},
   "outputs": [],
   "source": [
    "import matplotlib.pyplot as plt\n",
    "import numpy as np\n",
    "\n",
    "def plot_client_scatter_weights_sizes_discrepancies(client_weights, discrepancies, client_sizes):\n",
    "    \"\"\"\n",
    "    Scatter plot of client size vs discrepancy, with weight shown by color and point size.\n",
    "    Y-axis is limited to [0, 1].\n",
    "    \"\"\"\n",
    "    client_weights = np.array(client_weights)\n",
    "    discrepancies = np.array(discrepancies)\n",
    "    client_sizes = np.array(client_sizes)\n",
    "\n",
    "    # Normalize weight for marker size\n",
    "    point_sizes = 300 * (client_weights / client_weights.max())\n",
    "    point_colors = client_weights\n",
    "\n",
    "    plt.figure(figsize=(10, 6))\n",
    "    scatter = plt.scatter(client_sizes, discrepancies, c=point_colors, s=point_sizes,\n",
    "                          cmap='viridis', edgecolors='k', alpha=0.8)\n",
    "\n",
    "    plt.colorbar(scatter, label='Client Weight')\n",
    "    plt.xlabel('Client Size')\n",
    "    plt.ylabel('Discrepancy')\n",
    "    plt.title('Client Size vs Discrepancy (Color & Size = Weight)')\n",
    "    plt.grid(True, linestyle='--', alpha=0.5)\n",
    "    plt.tight_layout()\n",
    "    plt.show()\n",
    "\n",
    "plot_client_scatter_weights_sizes_discrepancies(weights_disc,\n",
    "                                                discrepancies,\n",
    "                                                client_sizes)"
   ]
  },
  {
   "cell_type": "code",
   "execution_count": null,
   "id": "d0b2bf45",
   "metadata": {},
   "outputs": [],
   "source": [
    "collaborative_model = get_dino_vits16_model(device)"
   ]
  },
  {
   "cell_type": "code",
   "execution_count": null,
   "id": "2a8c137e",
   "metadata": {},
   "outputs": [],
   "source": [
    "start_round = 0\n",
    "num_rounds = 30\n",
    "best_test_acc = 0.0\n",
    "\n",
    "hist_train_loss = []\n",
    "hist_train_acc = []\n",
    "hist_test_loss = []\n",
    "hist_test_acc = []\n",
    "\n",
    "random.seed(42)"
   ]
  },
  {
   "cell_type": "code",
   "execution_count": null,
   "id": "18e28553",
   "metadata": {},
   "outputs": [],
   "source": [
    "# FedAvg loop\n",
    "for round in range(start_round, start_round + num_rounds):\n",
    "    print(f\"\\n--- Round {round + 1}/{start_round + num_rounds} ---\")\n",
    "\n",
    "    # Select clients\n",
    "    selected_clients = random.sample(range(K), int(C * K))\n",
    "\n",
    "    # Local training\n",
    "    local_models, train_losses, train_accs = [], [], []\n",
    "    for client_id in selected_clients:\n",
    "\n",
    "        steps = max(1, int(J * (len(train_datasets[client_id]) / 1000)))\n",
    "\n",
    "        model_state, loss, acc = train_on_client(\n",
    "            client_id,\n",
    "            collaborative_model,\n",
    "            train_datasets[client_id],\n",
    "            J,\n",
    "            criterion,\n",
    "            lr = 0.01,\n",
    "            device = device,\n",
    "        )\n",
    "        local_models.append(model_state)\n",
    "        train_losses.append(loss)\n",
    "        train_accs.append(acc)\n",
    "\n",
    "    # Weighting by dataset size for metrics\n",
    "    client_sample_counts = [len(train_datasets[c]) for c in selected_clients]\n",
    "    total_samples = sum(client_sample_counts)\n",
    "    client_weights_metrics = [count / total_samples for count in client_sample_counts]\n",
    "\n",
    "    if baseline:\n",
    "        # Weighting uniformly\n",
    "        client_weights = [1.0 / len(selected_clients)] * len(selected_clients)\n",
    "    else:\n",
    "        # Use computed client weights\n",
    "        tot_weights_disc = sum(weights_disc[c] for c in selected_clients)\n",
    "        client_weights = [weights_disc[c] / tot_weights_disc for c in selected_clients]\n",
    "\n",
    "    # Federated averaging\n",
    "    trainable_keys = get_trainable_keys(collaborative_model)\n",
    "    averaged_state = average_models(local_models, client_weights, trainable_keys)\n",
    "    new_state = collaborative_model.state_dict()\n",
    "    for key in averaged_state:\n",
    "        new_state[key] = averaged_state[key]\n",
    "    collaborative_model.load_state_dict(new_state)\n",
    "\n",
    "    # Log average training metrics\n",
    "    avg_train_loss = average_metrics(train_losses, client_weights_metrics)\n",
    "    avg_train_acc = average_metrics(train_accs, client_weights_metrics)\n",
    "    print(f\"Avg Train Loss: {avg_train_loss:.4f}, Avg Train Accuracy: {avg_train_acc:.4f}\")\n",
    "    hist_train_loss.append(avg_train_loss)\n",
    "    hist_train_acc.append(avg_train_acc)\n",
    "\n",
    "    if (round + 1) % 2 == 0:\n",
    "        avg_test_loss, avg_test_acc = evaluate(collaborative_model, test_loader, criterion, device)\n",
    "\n",
    "        print(f\"Avg Test Loss: {avg_test_loss:.4f}, Avg Test Accuracy: {avg_test_acc:.4f}\")\n",
    "        hist_test_loss.append(avg_test_loss)\n",
    "        hist_test_acc.append(avg_test_acc)\n",
    "\n",
    "    # Save model each 20 rounds\n",
    "    if (round + 1) % 10 == 0:\n",
    "        checkpoint_path = os.path.join(CHECKPOINT_DIR, f\"federated_unbalance_disco_round_{round + 1}.pth\")\n",
    "        torch.save(collaborative_model.state_dict(), checkpoint_path)"
   ]
  },
  {
   "cell_type": "code",
   "execution_count": null,
   "id": "4f12d34a",
   "metadata": {},
   "outputs": [],
   "source": [
    "# X-axis for train loss: computed every round\n",
    "rounds_train = range(len(hist_train_loss))\n",
    "\n",
    "# X-axis for test loss: computed every 5 rounds\n",
    "rounds_test = range(1, (len(hist_test_loss) + 1) * 2, 2)\n",
    "\n",
    "# Plotting\n",
    "plt.plot(rounds_train, hist_train_loss, label='Train Loss')\n",
    "plt.plot(rounds_test, hist_test_loss, label='Test Loss')\n",
    "plt.xlabel('Rounds')\n",
    "plt.ylabel('Loss')\n",
    "plt.legend()\n",
    "\n",
    "# Save image as vector format\n",
    "plt.savefig(f\"fed_unbalance_disco_loss.svg\", format='svg', bbox_inches='tight')\n",
    "\n",
    "plt.show()"
   ]
  },
  {
   "cell_type": "code",
   "execution_count": null,
   "id": "b09a8d04",
   "metadata": {},
   "outputs": [],
   "source": [
    "# X-axis for train loss: computed every round\n",
    "rounds_train = range(len(hist_train_acc))\n",
    "\n",
    "# X-axis for test loss: computed every 5 rounds\n",
    "rounds_test = range(1, (len(hist_test_acc) + 2) * 2, 2)\n",
    "\n",
    "# Plotting\n",
    "plt.plot(rounds_train, hist_train_acc, label='Train Accuracy')\n",
    "plt.plot(rounds_test, hist_test_acc, label='Test Accuracy')\n",
    "plt.xlabel('Rounds')\n",
    "plt.ylabel('Accuracy')\n",
    "plt.legend()\n",
    "\n",
    "# Save image as vector format\n",
    "plt.savefig(f\"fed_unbalance_disco_acc.svg\", format='svg', bbox_inches='tight')\n",
    "\n",
    "plt.show()"
   ]
  }
 ],
 "metadata": {
  "language_info": {
   "name": "python"
  }
 },
 "nbformat": 4,
 "nbformat_minor": 5
}

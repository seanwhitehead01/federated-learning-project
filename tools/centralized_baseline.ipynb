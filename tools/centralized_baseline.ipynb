{
 "cells": [
  {
   "cell_type": "code",
   "execution_count": null,
   "id": "741321f9",
   "metadata": {},
   "outputs": [],
   "source": [
    "import os\n",
    "import torch\n",
    "import torch.nn as nn\n",
    "import torch.optim as optim\n",
    "from data.cifar100_loader import get_cifar100_loaders\n",
    "from models.prepare_model import get_dino_vits16_model, freeze_backbone\n",
    "from models.hyperparameter_tuning import run_grid_search\n",
    "from eval import evaluate\n",
    "from train import train\n"
   ]
  },
  {
   "cell_type": "code",
   "execution_count": null,
   "id": "7bc0044f",
   "metadata": {},
   "outputs": [],
   "source": [
    "# Set device\n",
    "device = torch.device(\"cuda\" if torch.cuda.is_available() else \"cpu\")\n",
    "\n",
    "# Directories\n",
    "CHECKPOINT_DIR = './checkpoints'\n",
    "os.makedirs(CHECKPOINT_DIR, exist_ok=True)"
   ]
  },
  {
   "cell_type": "code",
   "execution_count": null,
   "id": "25c151bb",
   "metadata": {},
   "outputs": [],
   "source": [
    "train_loader, val_loader, test_loader = get_cifar100_loaders()\n",
    "criterion = nn.CrossEntropyLoss()"
   ]
  },
  {
   "cell_type": "code",
   "execution_count": null,
   "id": "388dfee6",
   "metadata": {},
   "outputs": [],
   "source": [
    "best_results = []"
   ]
  },
  {
   "cell_type": "code",
   "execution_count": null,
   "id": "70111fd6",
   "metadata": {},
   "outputs": [],
   "source": [
    "# Define the grid search parameters\n",
    "configs1 = [\n",
    "    {'scheduler': 'linear', 'lr': 0.01, 'momentum': 0.8},\n",
    "    {'scheduler': 'linear', 'lr': 0.01, 'momentum': 0.9},\n",
    "    {'scheduler': 'linear', 'lr': 0.01, 'momentum': 0.95},\n",
    "]\n",
    "configs2 = [\n",
    "    {'scheduler': 'linear', 'lr': 0.001, 'momentum': 0.8},\n",
    "    {'scheduler': 'linear', 'lr': 0.001, 'momentum': 0.9},\n",
    "    {'scheduler': 'linear', 'lr': 0.001, 'momentum': 0.95},\n",
    "]\n",
    "configs3 = [\n",
    "    {'scheduler': 'linear', 'lr': 0.005, 'momentum': 0.8},\n",
    "    {'scheduler': 'linear', 'lr': 0.005, 'momentum': 0.9},\n",
    "    {'scheduler': 'linear', 'lr': 0.005, 'momentum': 0.95},\n",
    "]"
   ]
  },
  {
   "cell_type": "code",
   "execution_count": null,
   "id": "52497802",
   "metadata": {},
   "outputs": [],
   "source": [
    "best_cfg1, results1 = run_grid_search(train_loader, val_loader, get_dino_vits16_model, criterion, configs1, device)\n",
    "torch.save(best_cfg1, os.path.join(CHECKPOINT_DIR, 'best_cfg1.pth'))\n",
    "best_results.append(best_cfg1)"
   ]
  },
  {
   "cell_type": "code",
   "execution_count": null,
   "id": "95a15af9",
   "metadata": {},
   "outputs": [],
   "source": [
    "best_cfg2, results2 = run_grid_search(train_loader, val_loader, get_dino_vits16_model, criterion, configs2, device)\n",
    "torch.save(best_cfg2, os.path.join(CHECKPOINT_DIR, 'best_cfg2.pth'))\n",
    "best_results.append(best_cfg2)"
   ]
  },
  {
   "cell_type": "code",
   "execution_count": null,
   "id": "4a6d1faa",
   "metadata": {},
   "outputs": [],
   "source": [
    "best_cfg3, results3 = run_grid_search(train_loader, val_loader, get_dino_vits16_model, criterion, configs3, device)\n",
    "torch.save(best_cfg3, os.path.join(CHECKPOINT_DIR, 'best_cfg3.pth'))\n",
    "best_results.append(best_cfg3)"
   ]
  },
  {
   "cell_type": "code",
   "execution_count": null,
   "id": "7fb802c7",
   "metadata": {},
   "outputs": [],
   "source": [
    "# Define the grid search parameters\n",
    "configs4 = [\n",
    "    {'scheduler': 'exp', 'lr': 0.01, 'momentum': 0.8},\n",
    "    {'scheduler': 'exp', 'lr': 0.01, 'momentum': 0.9},\n",
    "    {'scheduler': 'exp', 'lr': 0.01, 'momentum': 0.95},\n",
    "]\n",
    "configs5 = [\n",
    "    {'scheduler': 'exp', 'lr': 0.001, 'momentum': 0.8},\n",
    "    {'scheduler': 'exp', 'lr': 0.001, 'momentum': 0.9},\n",
    "    {'scheduler': 'exp', 'lr': 0.001, 'momentum': 0.95},\n",
    "]\n",
    "configs6 = [\n",
    "    {'scheduler': 'exp', 'lr': 0.005, 'momentum': 0.8},\n",
    "    {'scheduler': 'exp', 'lr': 0.005, 'momentum': 0.9},\n",
    "    {'scheduler': 'exp', 'lr': 0.005, 'momentum': 0.95},\n",
    "]"
   ]
  },
  {
   "cell_type": "code",
   "execution_count": null,
   "id": "15848f33",
   "metadata": {},
   "outputs": [],
   "source": [
    "best_cfg4, results4 = run_grid_search(train_loader, val_loader, get_dino_vits16_model, criterion, configs4, device)\n",
    "torch.save(best_cfg4, os.path.join(CHECKPOINT_DIR, 'best_cfg4.pth'))\n",
    "best_results.append(best_cfg4)"
   ]
  },
  {
   "cell_type": "code",
   "execution_count": null,
   "id": "7180a791",
   "metadata": {},
   "outputs": [],
   "source": [
    "best_cfg5, results5 = run_grid_search(train_loader, val_loader, get_dino_vits16_model, criterion, configs5, device)\n",
    "torch.save(best_cfg5, os.path.join(CHECKPOINT_DIR, 'best_cfg5.pth'))\n",
    "best_results.append(best_cfg5)"
   ]
  },
  {
   "cell_type": "code",
   "execution_count": null,
   "id": "26cd86db",
   "metadata": {},
   "outputs": [],
   "source": [
    "best_cfg6, results6 = run_grid_search(train_loader, val_loader, get_dino_vits16_model, criterion, configs6, device)\n",
    "torch.save(best_cfg6, os.path.join(CHECKPOINT_DIR, 'best_cfg6.pth'))\n",
    "best_results.append(best_cfg6)"
   ]
  },
  {
   "cell_type": "code",
   "execution_count": null,
   "id": "7bb3c074",
   "metadata": {},
   "outputs": [],
   "source": [
    "# Define the grid search parameters\n",
    "configs7 = [\n",
    "    {'scheduler': 'cosine', 'lr': 0.01, 'momentum': 0.8},\n",
    "    {'scheduler': 'cosine', 'lr': 0.01, 'momentum': 0.9},\n",
    "    {'scheduler': 'cosine', 'lr': 0.01, 'momentum': 0.95},\n",
    "]\n",
    "configs8 = [\n",
    "    {'scheduler': 'cosine', 'lr': 0.001, 'momentum': 0.8},\n",
    "    {'scheduler': 'cosine', 'lr': 0.001, 'momentum': 0.9},\n",
    "    {'scheduler': 'cosine', 'lr': 0.001, 'momentum': 0.95},\n",
    "]\n",
    "configs9 = [\n",
    "    {'scheduler': 'cosine', 'lr': 0.005, 'momentum': 0.8},\n",
    "    {'scheduler': 'cosine', 'lr': 0.005, 'momentum': 0.9},\n",
    "    {'scheduler': 'cosine', 'lr': 0.005, 'momentum': 0.95},\n",
    "]"
   ]
  },
  {
   "cell_type": "code",
   "execution_count": null,
   "id": "338ef6b7",
   "metadata": {},
   "outputs": [],
   "source": [
    "best_cfg7, results7 = run_grid_search(train_loader, val_loader, get_dino_vits16_model, criterion, configs7, device)\n",
    "torch.save(best_cfg7, os.path.join(CHECKPOINT_DIR, 'best_cfg7.pth'))\n",
    "best_results.append(best_cfg7)"
   ]
  },
  {
   "cell_type": "code",
   "execution_count": null,
   "id": "7ef07e1c",
   "metadata": {},
   "outputs": [],
   "source": [
    "best_cfg8, results8 = run_grid_search(train_loader, val_loader, get_dino_vits16_model, criterion, configs8, device)\n",
    "torch.save(best_cfg8, os.path.join(CHECKPOINT_DIR, 'best_cfg8.pth'))\n",
    "best_results.append(best_cfg8)"
   ]
  },
  {
   "cell_type": "code",
   "execution_count": null,
   "id": "30f4cb11",
   "metadata": {},
   "outputs": [],
   "source": [
    "best_cfg9, results9 = run_grid_search(train_loader, val_loader, get_dino_vits16_model, criterion, configs9, device)\n",
    "torch.save(best_cfg9, os.path.join(CHECKPOINT_DIR, 'best_cfg9.pth'))\n",
    "best_results.append(best_cfg9)"
   ]
  },
  {
   "cell_type": "code",
   "execution_count": null,
   "id": "2e267944",
   "metadata": {},
   "outputs": [],
   "source": [
    "# Get the best configuration\n",
    "best_cfg = None\n",
    "best_accuracy = 0.0\n",
    "for result in best_results:\n",
    "    if result['accuracy'] > best_accuracy:\n",
    "        best_accuracy = result['accuracy']\n",
    "        best_cfg = result['cfg']"
   ]
  },
  {
   "cell_type": "code",
   "execution_count": null,
   "id": "cf6d0eb7",
   "metadata": {},
   "outputs": [],
   "source": [
    "model = get_dino_vits16_model(device)\n",
    "freeze_backbone(model)"
   ]
  },
  {
   "cell_type": "code",
   "execution_count": null,
   "id": "2c4457d3",
   "metadata": {},
   "outputs": [],
   "source": [
    "# Train on full training set (train + val)\n",
    "full_train_loader, _, test_loader = get_cifar100_loaders(val_split=0.0)"
   ]
  },
  {
   "cell_type": "code",
   "execution_count": null,
   "id": "8c718e86",
   "metadata": {},
   "outputs": [],
   "source": [
    "start_epoch = 0\n",
    "num_epochs = 30\n",
    "best_test_acc = 0.0\n",
    "\n",
    "hist_train_loss = []\n",
    "hist_train_acc = []\n",
    "hist_test_loss = []\n",
    "hist_test_acc = []"
   ]
  },
  {
   "cell_type": "code",
   "execution_count": null,
   "id": "3b9ee5e8",
   "metadata": {},
   "outputs": [],
   "source": [
    "optimizer = optim.SGD(model.parameters(), lr=best_cfg['lr'], momentum=best_cfg['momentum'], weight_decay=5e-4)\n",
    "if best_cfg['scheduler'] == 'cosine':\n",
    "    scheduler = optim.lr_scheduler.CosineAnnealingLR(optimizer, T_max=num_epochs)\n",
    "elif best_cfg['scheduler'] == 'linear':\n",
    "    scheduler = optim.lr_scheduler.LinearLR(optimizer, start_factor=1.0, total_iters=num_epochs)\n",
    "elif best_cfg['scheduler'] == 'exp':\n",
    "    scheduler = optim.lr_scheduler.ExponentialLR(optimizer, gamma=0.9)"
   ]
  },
  {
   "cell_type": "code",
   "execution_count": null,
   "id": "1f4f93ec",
   "metadata": {},
   "outputs": [],
   "source": [
    "for epoch in range(start_epoch, start_epoch + num_epochs):\n",
    "    train_loss, train_acc = train(model, full_train_loader, optimizer, criterion, device)\n",
    "    test_loss, test_acc = evaluate(model, test_loader, criterion, device)\n",
    "    scheduler.step()\n",
    "    \n",
    "    hist_train_loss.append(train_loss)\n",
    "    hist_train_acc.append(train_acc)\n",
    "    hist_test_loss.append(test_loss)\n",
    "    hist_test_acc.append(test_acc)\n",
    "\n",
    "    print(f\"Epoch {epoch+1}/{start_epoch + num_epochs}\")\n",
    "    print(f\"  Train Loss: {train_loss:.4f} | Train Acc: {train_acc:.4f}\")\n",
    "    print(f\"  Test Loss:  {test_loss:.4f} | Test Acc:  {test_acc:.4f}\")\n",
    "\n",
    "    if test_acc > best_test_acc:\n",
    "        best_test_acc = test_acc\n",
    "        torch.save({\n",
    "            'model_state_dict': model.state_dict(),\n",
    "            'optimizer_state_dict': optimizer.state_dict(),\n",
    "            'scheduler_state_dict': scheduler.state_dict()\n",
    "        }, os.path.join(CHECKPOINT_DIR, 'best_model_overall.pth'))\n",
    "\n",
    "    if (epoch + 1) % 10 == 0:\n",
    "        checkpoint = {\n",
    "            'epoch': epoch + 1,\n",
    "            'model_state_dict': model.state_dict(),\n",
    "            'optimizer_state_dict': optimizer.state_dict(),\n",
    "            'scheduler_state_dict': scheduler.state_dict()\n",
    "        }\n",
    "        torch.save(checkpoint, os.path.join(CHECKPOINT_DIR, f'centralized_epoch{epoch+1}.pth'))"
   ]
  },
  {
   "cell_type": "code",
   "execution_count": null,
   "id": "94c80d85",
   "metadata": {},
   "outputs": [],
   "source": [
    "import matplotlib.pyplot as plt\n",
    "\n",
    "# Plot the training and test loss\n",
    "plt.plot(hist_train_loss, label='Train Loss')\n",
    "plt.plot(hist_test_loss, label='Test Loss')\n",
    "plt.xlabel('Epoch')\n",
    "plt.ylabel('Loss')\n",
    "plt.legend()\n",
    "plt.show()"
   ]
  },
  {
   "cell_type": "code",
   "execution_count": null,
   "id": "a6bc5d44",
   "metadata": {},
   "outputs": [],
   "source": [
    "# Plot the training and test accuracy\n",
    "plt.plot(hist_train_acc, label='Train Accuracy')\n",
    "plt.plot(hist_test_acc, label='Test Accuracy')\n",
    "plt.xlabel('Epoch')\n",
    "plt.ylabel('Accuracy')\n",
    "plt.legend()\n",
    "plt.show()"
   ]
  }
 ],
 "metadata": {
  "kernelspec": {
   "display_name": ".venv",
   "language": "python",
   "name": "python3"
  },
  "language_info": {
   "codemirror_mode": {
    "name": "ipython",
    "version": 3
   },
   "file_extension": ".py",
   "mimetype": "text/x-python",
   "name": "python",
   "nbconvert_exporter": "python",
   "pygments_lexer": "ipython3",
   "version": "3.12.7"
  }
 },
 "nbformat": 4,
 "nbformat_minor": 5
}

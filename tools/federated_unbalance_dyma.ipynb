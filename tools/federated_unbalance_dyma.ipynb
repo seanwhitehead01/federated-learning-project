{
 "cells": [
  {
   "cell_type": "code",
   "execution_count": null,
   "id": "019b3d81",
   "metadata": {},
   "outputs": [],
   "source": [
    "# Clone github repository\n",
    "!git clone --branch personal-contribution https://github.com/AlessandroMaini/federated-learning-project.git"
   ]
  },
  {
   "cell_type": "code",
   "execution_count": null,
   "id": "5458983a",
   "metadata": {},
   "outputs": [],
   "source": [
    "%cd federated-learning-project"
   ]
  },
  {
   "cell_type": "code",
   "execution_count": null,
   "id": "7fd7351b",
   "metadata": {},
   "outputs": [],
   "source": [
    "import torch\n",
    "import torch.nn as nn\n",
    "import os\n",
    "import matplotlib.pyplot as plt\n",
    "import random\n",
    "from data.cifar100_loader import get_unbalanced_cifar100_datasets\n",
    "from eval import evaluate\n",
    "from train import train, train_steps\n",
    "from models.prepare_model import get_dino_vits16_model, freeze_backbone, unfreeze_backbone, freeze_head, unfreeze_head\n",
    "from models.unbalance import compute_kl_discrepancy, compute_discrepancy_aware_weights_sigmoid, compute_severity, get_class_distribution_vector\n",
    "from models.model_editing import mask_calculator, freeze_and_clean_client_masks\n",
    "from models.federated_averaging import train_on_client, average_metrics, average_models, get_trainable_keys\n",
    "from tqdm import tqdm"
   ]
  },
  {
   "cell_type": "code",
   "execution_count": null,
   "id": "9c8e7aad",
   "metadata": {},
   "outputs": [],
   "source": [
    "baseline = True"
   ]
  },
  {
   "cell_type": "code",
   "execution_count": null,
   "id": "54f3a74a",
   "metadata": {},
   "outputs": [],
   "source": [
    "# Set device\n",
    "device = torch.device(\"cuda\" if torch.cuda.is_available() else \"cpu\")\n",
    "\n",
    "# Directories\n",
    "CHECKPOINT_DIR = './checkpoints'\n",
    "os.makedirs(CHECKPOINT_DIR, exist_ok=True)"
   ]
  },
  {
   "cell_type": "code",
   "execution_count": null,
   "id": "c86f9591",
   "metadata": {},
   "outputs": [],
   "source": [
    "# Number of clients\n",
    "K = 45\n",
    "# Fraction of clients\n",
    "C = 0.2\n",
    "# Number of local steps\n",
    "J = 64"
   ]
  },
  {
   "cell_type": "code",
   "execution_count": null,
   "id": "2504d374",
   "metadata": {},
   "outputs": [],
   "source": [
    "# Create dataloaders for the clients\n",
    "train_datasets, test_loader, client_class_map, client_metadata = get_unbalanced_cifar100_datasets(K) # Default division by size and bias\n",
    "\n",
    "criterion = nn.CrossEntropyLoss()"
   ]
  },
  {
   "cell_type": "code",
   "execution_count": null,
   "id": "137d5ea2",
   "metadata": {},
   "outputs": [],
   "source": [
    "# Compute KL divergence for each client\n",
    "discrepancies = []\n",
    "for client_dataset in train_datasets:\n",
    "    kl_div = compute_kl_discrepancy(client_dataset)\n",
    "    discrepancies.append(kl_div)"
   ]
  },
  {
   "cell_type": "code",
   "execution_count": null,
   "id": "1947cb5a",
   "metadata": {},
   "outputs": [],
   "source": [
    "client_sizes = [len(dataset) for dataset in train_datasets]\n",
    "severities = compute_severity(client_sizes, discrepancies)"
   ]
  },
  {
   "cell_type": "code",
   "execution_count": null,
   "id": "a2ec85e2",
   "metadata": {},
   "outputs": [],
   "source": [
    "# Plot client sizes\n",
    "plt.figure(figsize=(10, 5))\n",
    "plt.bar(range(K), client_sizes, color='blue', alpha=0.7)\n",
    "plt.xlabel('Client ID')\n",
    "plt.ylabel('Number of samples')\n",
    "plt.title('Number of samples per client')\n",
    "plt.xticks(range(K), rotation=90)\n",
    "plt.tight_layout()\n",
    "plt.show()"
   ]
  },
  {
   "cell_type": "code",
   "execution_count": null,
   "id": "0723f0b0",
   "metadata": {},
   "outputs": [],
   "source": [
    "# Plot client discrepancies\n",
    "plt.figure(figsize=(10, 5))\n",
    "plt.bar(range(K), discrepancies, color='orange', alpha=0.7)\n",
    "plt.xlabel('Client ID')\n",
    "plt.ylabel('Discrepancy')\n",
    "plt.title('Discrepancy per client')\n",
    "plt.xticks(range(K), rotation=90)\n",
    "plt.tight_layout()\n",
    "plt.show()"
   ]
  },
  {
   "cell_type": "code",
   "execution_count": null,
   "id": "2bbbe598",
   "metadata": {},
   "outputs": [],
   "source": [
    "# Plot client weights\n",
    "plt.figure(figsize=(10, 5))\n",
    "plt.bar(range(K), severities, color='green', alpha=0.7)\n",
    "plt.xlabel('Client ID')\n",
    "plt.ylabel('Client weight')\n",
    "plt.title('Client weights')\n",
    "plt.xticks(range(K), rotation=90)\n",
    "plt.tight_layout()\n",
    "plt.show()"
   ]
  },
  {
   "cell_type": "code",
   "execution_count": null,
   "id": "018b9fed",
   "metadata": {},
   "outputs": [],
   "source": [
    "import matplotlib.pyplot as plt\n",
    "import numpy as np\n",
    "\n",
    "def plot_client_scatter_weights_sizes_discrepancies(client_severities, discrepancies, client_sizes):\n",
    "    \"\"\"\n",
    "    Scatter plot of client size vs discrepancy, with weight shown by color and point size.\n",
    "    Y-axis is limited to [0, 1].\n",
    "    \"\"\"\n",
    "    client_severities = np.array(client_severities)\n",
    "    discrepancies = np.array(discrepancies)\n",
    "    client_sizes = np.array(client_sizes)\n",
    "\n",
    "    # Normalize weight for marker size\n",
    "    point_sizes = 300 * (client_severities / client_severities.max())\n",
    "    point_colors = client_severities\n",
    "\n",
    "    plt.figure(figsize=(10, 6))\n",
    "    scatter = plt.scatter(client_sizes, discrepancies, c=point_colors, s=point_sizes,\n",
    "                          cmap='viridis', edgecolors='k', alpha=0.8)\n",
    "\n",
    "    plt.colorbar(scatter, label='Client Weight')\n",
    "    plt.xlabel('Client Size')\n",
    "    plt.ylabel('Discrepancy')\n",
    "    plt.title('Client Size vs Discrepancy (Color & Size = Weight)')\n",
    "    plt.grid(True, linestyle='--', alpha=0.5)\n",
    "    plt.tight_layout()\n",
    "    plt.show()\n",
    "\n",
    "plot_client_scatter_weights_sizes_discrepancies(severities,\n",
    "                                                discrepancies,\n",
    "                                                client_sizes)"
   ]
  },
  {
   "cell_type": "code",
   "execution_count": null,
   "id": "4fe65e44",
   "metadata": {},
   "outputs": [],
   "source": [
    "collaborative_model = get_dino_vits16_model(device)\n",
    "\n",
    "# Freeze the backbone\n",
    "freeze_backbone(collaborative_model)"
   ]
  },
  {
   "cell_type": "code",
   "execution_count": null,
   "id": "f65d75ec",
   "metadata": {},
   "outputs": [],
   "source": [
    "warmup_rounds = 5\n",
    "warmup_steps = 64"
   ]
  },
  {
   "cell_type": "code",
   "execution_count": null,
   "id": "324f9b7a",
   "metadata": {},
   "outputs": [],
   "source": [
    "start_round = 0\n",
    "num_rounds = warmup_rounds\n",
    "best_test_acc = 0.0\n",
    "\n",
    "warmup_train_loss = []\n",
    "warmup_train_acc = []\n",
    "warmup_test_loss = []\n",
    "warmup_test_acc = []\n",
    "\n",
    "random.seed(42)"
   ]
  },
  {
   "cell_type": "code",
   "execution_count": null,
   "id": "332f8f90",
   "metadata": {},
   "outputs": [],
   "source": [
    "print(\"--- Starting Federated Averaging Warmup ---\")\n",
    "# FedAvg loop\n",
    "for round in range(start_round, start_round + num_rounds):\n",
    "    print(f\"\\n--- Round {round + 1}/{start_round + num_rounds} ---\")\n",
    "\n",
    "    # Select clients\n",
    "    selected_clients = random.sample(range(K), int(C * K))\n",
    "\n",
    "    # Local training\n",
    "    local_models, train_losses, train_accs = [], [], []\n",
    "    for client_id in selected_clients:\n",
    "        model_state, loss, acc = train_on_client(\n",
    "            client_id,\n",
    "            collaborative_model,\n",
    "            train_datasets[client_id],\n",
    "            warmup_steps,\n",
    "            criterion,\n",
    "            lr = 0.01,\n",
    "            device = device\n",
    "        )\n",
    "        local_models.append(model_state)\n",
    "        train_losses.append(loss)\n",
    "        train_accs.append(acc)\n",
    "\n",
    "    # Weighting by dataset size\n",
    "    client_sample_counts = [len(train_datasets[c]) for c in selected_clients]\n",
    "    total_samples = sum(client_sample_counts)\n",
    "    client_weights_metrics = [count / total_samples for count in client_sample_counts]\n",
    "\n",
    "    # Weighting uniformly\n",
    "    client_weights = [1.0 / len(selected_clients)] * len(selected_clients)\n",
    "\n",
    "    # Federated averaging\n",
    "    trainable_keys = get_trainable_keys(collaborative_model)\n",
    "    averaged_state = average_models(local_models, client_weights, trainable_keys)\n",
    "    new_state = collaborative_model.state_dict()\n",
    "    for key in averaged_state:\n",
    "        new_state[key] = averaged_state[key]\n",
    "    collaborative_model.load_state_dict(new_state)\n",
    "\n",
    "    # Log average training metrics\n",
    "    avg_train_loss = average_metrics(train_losses, client_weights_metrics)\n",
    "    avg_train_acc = average_metrics(train_accs, client_weights_metrics)\n",
    "    print(f\"Avg Train Loss: {avg_train_loss:.4f}, Avg Train Accuracy: {avg_train_acc:.4f}\")\n",
    "    warmup_train_loss.append(avg_train_loss)\n",
    "    warmup_train_acc.append(avg_train_acc)\n",
    "\n",
    "\n",
    "    avg_test_loss, avg_test_acc = evaluate(collaborative_model, test_loader, criterion, device)\n",
    "\n",
    "    print(f\"Avg Test Loss: {avg_test_loss:.4f}, Avg Test Accuracy: {avg_test_acc:.4f}\")\n",
    "    warmup_test_loss.append(avg_test_loss)\n",
    "    warmup_test_acc.append(avg_test_acc)\n",
    "\n",
    "torch.save(collaborative_model.state_dict(), os.path.join(CHECKPOINT_DIR, f'pre_trained_federated_unbalance_model_{J}steps.pth'))"
   ]
  },
  {
   "cell_type": "code",
   "execution_count": null,
   "id": "f2dcb477",
   "metadata": {},
   "outputs": [],
   "source": [
    "# Plot the training and test loss\n",
    "plt.plot(warmup_train_loss, label='Train Loss')\n",
    "plt.plot(warmup_test_loss, label='Test Loss')\n",
    "plt.xlabel('Rounds')\n",
    "plt.ylabel('Loss')\n",
    "plt.legend()\n",
    "plt.show()"
   ]
  },
  {
   "cell_type": "code",
   "execution_count": null,
   "id": "1526e661",
   "metadata": {},
   "outputs": [],
   "source": [
    "# Plot the training and test accuracy\n",
    "plt.plot(warmup_train_acc, label='Train Accuracy')\n",
    "plt.plot(warmup_test_acc, label='Test Accuracy')\n",
    "plt.xlabel('Rounds')\n",
    "plt.ylabel('Accuracy')\n",
    "plt.legend()\n",
    "plt.show()"
   ]
  },
  {
   "cell_type": "code",
   "execution_count": null,
   "id": "71a7b2de",
   "metadata": {},
   "outputs": [],
   "source": [
    "# Load the pre-trained model\n",
    "collaborative_model.load_state_dict(torch.load(os.path.join(CHECKPOINT_DIR, f'pre_trained_federated_unbalance_model_{J}steps.pth')))\n",
    "# Unfreeze the backbone\n",
    "unfreeze_backbone(collaborative_model)\n",
    "# Freeze the head\n",
    "freeze_head(collaborative_model)\n",
    "\n",
    "if baseline:\n",
    "    sparsity = [0.3] * K\n",
    "else:\n",
    "    min_sparsity = 0.5\n",
    "    max_sparsity = 1.0\n",
    "    sparsity = [1 - (severity_i * (max_sparsity - min_sparsity) + min_sparsity) for severity_i in severities]"
   ]
  },
  {
   "cell_type": "code",
   "execution_count": null,
   "id": "1731460b",
   "metadata": {},
   "outputs": [],
   "source": [
    "# Plot sparsities\n",
    "plt.figure(figsize=(10, 5))\n",
    "plt.bar(range(K), sparsity, color='purple', alpha=0.7)\n",
    "plt.xlabel('Client ID')\n",
    "plt.ylabel('Sparsity')\n",
    "plt.title('Sparsity per client')\n",
    "plt.xticks(range(K), rotation=90)\n",
    "plt.tight_layout()\n",
    "plt.show()"
   ]
  },
  {
   "cell_type": "code",
   "execution_count": null,
   "id": "508371e2",
   "metadata": {},
   "outputs": [],
   "source": [
    "# Compute the mask for each client\n",
    "client_masks = {}\n",
    "for client_id in tqdm(range(K)):\n",
    "    # Create a list of samples per class\n",
    "    distribution_vector = get_class_distribution_vector(train_datasets[client_id])\n",
    "    samples_per_class = [int(distribution_vector[class_id] * 100) for class_id in range(K)]\n",
    "    if baseline:\n",
    "        # For the baseline, we use a fixed sparsity\n",
    "        client_masks[client_id] = mask_calculator(collaborative_model, train_datasets[client_id], device, rounds=4, sparsity=0.3,\n",
    "                                                  samples_per_class=samples_per_class, verbose=False)\n",
    "    else:\n",
    "        # For the unbalanced case, we use the computed sparsity\n",
    "        client_masks[client_id] = mask_calculator(collaborative_model, train_datasets[client_id], device, rounds=4, sparsity=sparsity[client_id],\n",
    "                                              samples_per_class=samples_per_class, verbose=False)"
   ]
  },
  {
   "cell_type": "code",
   "execution_count": null,
   "id": "b3c7494e",
   "metadata": {},
   "outputs": [],
   "source": [
    "client_masks, frozen_state = freeze_and_clean_client_masks(collaborative_model, client_masks, threshold=0.01, K=K)\n",
    "\n",
    "# Save the client masks to a single file\n",
    "torch.save(client_masks, os.path.join(CHECKPOINT_DIR, f'client_masks_{J}steps_{baseline}.pth'))\n",
    "# Save the frozen state of the model\n",
    "torch.save(frozen_state, os.path.join(CHECKPOINT_DIR, f'frozen_state_{J}steps_{baseline}.pth'))"
   ]
  },
  {
   "cell_type": "code",
   "execution_count": null,
   "id": "9e524263",
   "metadata": {},
   "outputs": [],
   "source": [
    "# Load the client masks from the file\n",
    "client_masks = torch.load(os.path.join(CHECKPOINT_DIR, f'client_masks_{J}steps_{baseline}.pth'))\n",
    "# Load frozen state from file\n",
    "frozen_state = torch.load(os.path.join(CHECKPOINT_DIR, f'frozen_state_{J}steps_{baseline}.pth'))"
   ]
  },
  {
   "cell_type": "code",
   "execution_count": null,
   "id": "a516328d",
   "metadata": {},
   "outputs": [],
   "source": [
    "tot_non_zero = 0\n",
    "for client_id in range(100):\n",
    "  non_zero_count = 0\n",
    "  for key, value in client_masks[client_id].items():\n",
    "      # Check if the value is a tensor before attempting to sum\n",
    "      if isinstance(value, torch.Tensor):\n",
    "          non_zero_count += torch.sum(value != 0).item()\n",
    "  print(f\"Number of non-zeros in the mask: {non_zero_count}\")\n",
    "  tot_non_zero += non_zero_count\n",
    "print(f\"Mean non zero elems {tot_non_zero/100}\")"
   ]
  },
  {
   "cell_type": "code",
   "execution_count": null,
   "id": "e8211904",
   "metadata": {},
   "outputs": [],
   "source": [
    "start_round = 0\n",
    "num_rounds = 30\n",
    "best_test_acc = 0.0\n",
    "\n",
    "hist_train_loss = []\n",
    "hist_train_acc = []\n",
    "hist_test_loss = []\n",
    "hist_test_acc = []"
   ]
  },
  {
   "cell_type": "code",
   "execution_count": null,
   "id": "a7030b21",
   "metadata": {},
   "outputs": [],
   "source": [
    "# # Load previous checkpoint if available\n",
    "# collaborative_model.load_state_dict(torch.load(os.path.join(CHECKPOINT_DIR, 'federated_round_80.pth')))\n",
    "\n",
    "# freeze_head(collaborative_model)\n",
    "\n",
    "# # Apply frozen state\n",
    "# for name, param in collaborative_model.named_parameters():\n",
    "#     if name in frozen_state:\n",
    "#         param.requires_grad = False"
   ]
  },
  {
   "cell_type": "code",
   "execution_count": null,
   "id": "60e503ef",
   "metadata": {},
   "outputs": [],
   "source": [
    "# FedAvg loop\n",
    "for round in range(start_round, start_round + num_rounds):\n",
    "    print(f\"\\n--- Round {round + 1}/{start_round + num_rounds} ---\")\n",
    "\n",
    "    # Select clients\n",
    "    selected_clients = random.sample(range(K), int(C * K))\n",
    "\n",
    "    # Local training\n",
    "    local_models, train_losses, train_accs = [], [], []\n",
    "    for client_id in selected_clients:\n",
    "        model_state, loss, acc = train_on_client(\n",
    "            client_id,\n",
    "            collaborative_model,\n",
    "            train_datasets[client_id],\n",
    "            J,\n",
    "            criterion,\n",
    "            lr = 0.01,\n",
    "            device = device,\n",
    "            mask = client_masks[client_id]\n",
    "        )\n",
    "        local_models.append(model_state)\n",
    "        train_losses.append(loss)\n",
    "        train_accs.append(acc)\n",
    "\n",
    "    # Weighting by dataset size\n",
    "    client_sample_counts = [len(train_datasets[c]) for c in selected_clients]\n",
    "    total_samples = sum(client_sample_counts)\n",
    "    client_weights_metrics = [count / total_samples for count in client_sample_counts]\n",
    "\n",
    "    # Weighting uniformly\n",
    "    client_weights = [1.0 / len(selected_clients)] * len(selected_clients)\n",
    "\n",
    "    # Federated averaging\n",
    "    trainable_keys = get_trainable_keys(collaborative_model)\n",
    "    averaged_state = average_models(local_models, client_weights, trainable_keys)\n",
    "    new_state = collaborative_model.state_dict()\n",
    "    for key in averaged_state:\n",
    "        new_state[key] = averaged_state[key]\n",
    "    collaborative_model.load_state_dict(new_state)\n",
    "\n",
    "    # Log average training metrics\n",
    "    avg_train_loss = average_metrics(train_losses, client_weights_metrics)\n",
    "    avg_train_acc = average_metrics(train_accs, client_weights_metrics)\n",
    "    print(f\"Avg Train Loss: {avg_train_loss:.4f}, Avg Train Accuracy: {avg_train_acc:.4f}\")\n",
    "    hist_train_loss.append(avg_train_loss)\n",
    "    hist_train_acc.append(avg_train_acc)\n",
    "\n",
    "    if (round + 1) % 2 == 0:\n",
    "        avg_test_loss, avg_test_acc = evaluate(collaborative_model, test_loader, criterion, device)\n",
    "\n",
    "        print(f\"Avg Test Loss: {avg_test_loss:.4f}, Avg Test Accuracy: {avg_test_acc:.4f}\")\n",
    "        hist_test_loss.append(avg_test_loss)\n",
    "        hist_test_acc.append(avg_test_acc)\n",
    "\n",
    "    # Save model each 10 rounds\n",
    "    if (round + 1) % 10 == 0:\n",
    "        checkpoint_path = os.path.join(CHECKPOINT_DIR, f\"federated_editing_round_{round + 1}_{N}class_{int(sparsity * 100)}.pth\")\n",
    "        torch.save(collaborative_model.state_dict(), checkpoint_path)"
   ]
  },
  {
   "cell_type": "code",
   "execution_count": null,
   "id": "060d9962",
   "metadata": {},
   "outputs": [],
   "source": [
    "# Plot the training and test loss\n",
    "plt.plot(hist_train_loss, label='Train Loss')\n",
    "plt.plot(hist_test_loss, label='Test Loss')\n",
    "plt.xlabel('Rounds')\n",
    "plt.ylabel('Loss')\n",
    "plt.legend()\n",
    "plt.show()"
   ]
  },
  {
   "cell_type": "code",
   "execution_count": null,
   "id": "88d5a919",
   "metadata": {},
   "outputs": [],
   "source": [
    "# Plot the training and test accuracy\n",
    "plt.plot(hist_train_acc, label='Train Accuracy')\n",
    "plt.plot(hist_test_acc, label='Test Accuracy')\n",
    "plt.xlabel('Rounds')\n",
    "plt.ylabel('Accuracy')\n",
    "plt.legend()\n",
    "plt.show()"
   ]
  }
 ],
 "metadata": {
  "language_info": {
   "name": "python"
  }
 },
 "nbformat": 4,
 "nbformat_minor": 5
}

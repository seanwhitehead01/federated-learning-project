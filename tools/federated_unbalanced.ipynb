{
 "cells": [
  {
   "cell_type": "code",
   "execution_count": null,
   "id": "b32d0014",
   "metadata": {},
   "outputs": [],
   "source": [
    "# Clone github repository\n",
    "!git clone --branch personal-contribution https://github.com/AlessandroMaini/federated-learning-project.git"
   ]
  },
  {
   "cell_type": "code",
   "execution_count": null,
   "id": "65a1de0b",
   "metadata": {},
   "outputs": [],
   "source": [
    "%cd federated-learning-project"
   ]
  },
  {
   "cell_type": "code",
   "execution_count": null,
   "id": "10f85816",
   "metadata": {},
   "outputs": [],
   "source": [
    "import torch\n",
    "import torch.nn as nn\n",
    "import os\n",
    "import matplotlib.pyplot as plt\n",
    "import random\n",
    "from data.cifar100_loader import get_federated_cifar100_dataloaders_with_imbalances, get_class_distribution_matrix, plot_client_distributions\n",
    "from eval import evaluate\n",
    "from train import train, train_steps\n",
    "from models.prepare_model import get_dino_vits16_model, freeze_backbone, unfreeze_backbone, freeze_head, unfreeze_head\n",
    "from models.model_editing import mask_calculator, freeze_and_clean_client_masks\n",
    "from models.federated_averaging import train_on_client, average_metrics, average_models, get_trainable_keys\n",
    "from tqdm import tqdm"
   ]
  },
  {
   "cell_type": "code",
   "execution_count": null,
   "id": "0b44a88a",
   "metadata": {},
   "outputs": [],
   "source": [
    "# Set device\n",
    "device = torch.device(\"cuda\" if torch.cuda.is_available() else \"cpu\")\n",
    "\n",
    "# Directories\n",
    "CHECKPOINT_DIR = './checkpoints'\n",
    "os.makedirs(CHECKPOINT_DIR, exist_ok=True)"
   ]
  },
  {
   "cell_type": "code",
   "execution_count": null,
   "id": "bca880a4",
   "metadata": {},
   "outputs": [],
   "source": [
    "# Number of clients\n",
    "K = 100\n",
    "# Classes per client\n",
    "N = 10\n",
    "# Fraction of clients\n",
    "C = 0.1\n",
    "# Number of local steps\n",
    "J = 4"
   ]
  },
  {
   "cell_type": "code",
   "execution_count": null,
   "id": "a50a004e",
   "metadata": {},
   "outputs": [],
   "source": [
    "# Create dataloaders for the clients\n",
    "federated_test = False\n",
    "train_datasets, test_loader, client_class_map, assigned_sizes, assigned_distributions = get_federated_cifar100_dataloaders_with_imbalances(K, N)\n",
    "\n",
    "criterion = nn.CrossEntropyLoss()"
   ]
  },
  {
   "cell_type": "code",
   "execution_count": null,
   "id": "1915eac9",
   "metadata": {},
   "outputs": [],
   "source": [
    "collaborative_model = get_dino_vits16_model(device)\n",
    "\n",
    "# Freeze the backbone\n",
    "freeze_backbone(collaborative_model)"
   ]
  },
  {
   "cell_type": "code",
   "execution_count": null,
   "id": "5d2da88e",
   "metadata": {},
   "outputs": [],
   "source": [
    "warmup_rounds = 10\n",
    "warmup_steps = 8"
   ]
  },
  {
   "cell_type": "code",
   "execution_count": null,
   "id": "1b811aef",
   "metadata": {},
   "outputs": [],
   "source": [
    "start_round = 0\n",
    "num_rounds = warmup_rounds\n",
    "best_test_acc = 0.0\n",
    "\n",
    "warmup_train_loss = []\n",
    "warmup_train_acc = []\n",
    "warmup_test_loss = []\n",
    "warmup_test_acc = []"
   ]
  },
  {
   "cell_type": "code",
   "execution_count": null,
   "id": "b712785f",
   "metadata": {},
   "outputs": [],
   "source": [
    "print(\"--- Starting Federated Averaging Warmup ---\")\n",
    "# FedAvg loop\n",
    "for round in range(start_round, start_round + num_rounds):\n",
    "    print(f\"\\n--- Round {round + 1}/{start_round + num_rounds} ---\")\n",
    "\n",
    "    # Select clients\n",
    "    selected_clients = random.sample(range(K), int(C * K))\n",
    "\n",
    "    # Local training\n",
    "    local_models, train_losses, train_accs = [], [], []\n",
    "    for client_id in selected_clients:\n",
    "        model_state, loss, acc = train_on_client(\n",
    "            client_id,\n",
    "            collaborative_model,\n",
    "            train_datasets[client_id],\n",
    "            warmup_steps,\n",
    "            criterion,\n",
    "            lr = 0.01,\n",
    "            device = device,\n",
    "            client_dim=assigned_sizes[client_id]\n",
    "        )\n",
    "        local_models.append(model_state)\n",
    "        train_losses.append(loss)\n",
    "        train_accs.append(acc)\n",
    "\n",
    "    # Weighting by dataset size for metrics\n",
    "    client_sample_counts = [len(train_datasets[c]) for c in selected_clients]\n",
    "    total_samples = sum(client_sample_counts)\n",
    "    client_weights_metrics = [count / total_samples for count in client_sample_counts]\n",
    "\n",
    "    # Weighting uniformly\n",
    "    client_weights = [1.0 / len(selected_clients)] * len(selected_clients)\n",
    "\n",
    "    # Federated averaging\n",
    "    trainable_keys = get_trainable_keys(collaborative_model)\n",
    "    averaged_state = average_models(local_models, client_weights, trainable_keys)\n",
    "    new_state = collaborative_model.state_dict()\n",
    "    for key in averaged_state:\n",
    "        new_state[key] = averaged_state[key]\n",
    "    collaborative_model.load_state_dict(new_state)\n",
    "\n",
    "    # Log average training metrics\n",
    "    avg_train_loss = average_metrics(train_losses, client_weights_metrics)\n",
    "    avg_train_acc = average_metrics(train_accs, client_weights_metrics)\n",
    "    print(f\"Avg Train Loss: {avg_train_loss:.4f}, Avg Train Accuracy: {avg_train_acc:.4f}\")\n",
    "    warmup_train_loss.append(avg_train_loss)\n",
    "    warmup_train_acc.append(avg_train_acc)\n",
    "        \n",
    "    avg_test_loss, avg_test_acc = evaluate(collaborative_model, test_loader, criterion, device)\n",
    "\n",
    "    print(f\"Avg Test Loss: {avg_test_loss:.4f}, Avg Test Accuracy: {avg_test_acc:.4f}\")\n",
    "    warmup_test_loss.append(avg_test_loss)\n",
    "    warmup_test_acc.append(avg_test_acc)\n",
    "\n",
    "torch.save(collaborative_model.state_dict(), os.path.join(CHECKPOINT_DIR, f'pre_trained_federated_unbalance_{N}class.pth'))"
   ]
  },
  {
   "cell_type": "code",
   "execution_count": null,
   "id": "96270b5f",
   "metadata": {},
   "outputs": [],
   "source": [
    "# Plot the training and test loss\n",
    "plt.plot(warmup_train_loss, label='Train Loss')\n",
    "plt.plot(warmup_test_loss, label='Test Loss')\n",
    "plt.xlabel('Rounds')\n",
    "plt.ylabel('Loss')\n",
    "plt.legend()\n",
    "plt.show()"
   ]
  },
  {
   "cell_type": "code",
   "execution_count": null,
   "id": "b5cd6f17",
   "metadata": {},
   "outputs": [],
   "source": [
    "# Plot the training and test accuracy\n",
    "plt.plot(warmup_train_acc, label='Train Accuracy')\n",
    "plt.plot(warmup_test_acc, label='Test Accuracy')\n",
    "plt.xlabel('Rounds')\n",
    "plt.ylabel('Accuracy')\n",
    "plt.legend()\n",
    "plt.show()"
   ]
  },
  {
   "cell_type": "code",
   "execution_count": null,
   "id": "3b448995",
   "metadata": {},
   "outputs": [],
   "source": [
    "# Load the pre-trained model\n",
    "collaborative_model.load_state_dict(torch.load(os.path.join(CHECKPOINT_DIR, f'pre_trained_federated_unbalance_{N}class.pth')))\n",
    "# Unfreeze the backbone\n",
    "unfreeze_backbone(collaborative_model)\n",
    "# Freeze the head\n",
    "freeze_head(collaborative_model)\n",
    "\n",
    "sparsity = 0.10"
   ]
  },
  {
   "cell_type": "code",
   "execution_count": null,
   "id": "992dea1b",
   "metadata": {},
   "outputs": [],
   "source": [
    "# Compute the mask for each client\n",
    "client_masks = {}\n",
    "for client_id in tqdm(range(K)):\n",
    "    # Create a list of samples per class\n",
    "    samples_per_class = [0] * 100\n",
    "    for class_id in client_class_map[client_id]:\n",
    "        samples_per_class[class_id] = 10\n",
    "    client_masks[client_id] = mask_calculator(collaborative_model, train_datasets[client_id], device, rounds=4, sparsity=sparsity,\n",
    "                                              samples_per_class=samples_per_class, client_dim=assigned_sizes[client_id], verbose=False)"
   ]
  },
  {
   "cell_type": "code",
   "execution_count": null,
   "id": "3fa37d77",
   "metadata": {},
   "outputs": [],
   "source": [
    "client_masks, frozen_state = freeze_and_clean_client_masks(collaborative_model, client_masks, threshold=0.01, K=K)\n",
    "\n",
    "# Save the client masks to a single file\n",
    "torch.save(client_masks, os.path.join(CHECKPOINT_DIR, f'client_masks_unbalance_{N}class_{int(sparsity * 100)}.pth'))\n",
    "# Save the frozen state of the model\n",
    "torch.save(frozen_state, os.path.join(CHECKPOINT_DIR, f'frozen_state_unbalance_{N}class_{int(sparsity * 100)}.pth'))"
   ]
  },
  {
   "cell_type": "code",
   "execution_count": null,
   "id": "9f1b7e0a",
   "metadata": {},
   "outputs": [],
   "source": [
    "# Load the client masks from the file\n",
    "client_masks = torch.load(os.path.join(CHECKPOINT_DIR, f'client_masks_unbalance_{N}class_{int(sparsity * 100)}.pth'))\n",
    "# Load frozen state from file\n",
    "frozen_state = torch.load(os.path.join(CHECKPOINT_DIR, f'frozen_state_unbalance_{N}class_{int(sparsity * 100)}.pth'))"
   ]
  },
  {
   "cell_type": "code",
   "execution_count": null,
   "id": "2f56f72b",
   "metadata": {},
   "outputs": [],
   "source": [
    "tot_non_zero = 0\n",
    "for client_id in range(100):\n",
    "  non_zero_count = 0\n",
    "  for key, value in client_masks[client_id].items():\n",
    "      # Check if the value is a tensor before attempting to sum\n",
    "      if isinstance(value, torch.Tensor):\n",
    "          non_zero_count += torch.sum(value != 0).item()\n",
    "  print(f\"Number of non-zeros in the mask: {non_zero_count}\")\n",
    "  tot_non_zero += non_zero_count\n",
    "print(f\"Mean non zero elems {tot_non_zero/100}\")"
   ]
  },
  {
   "cell_type": "code",
   "execution_count": null,
   "id": "32fda1b0",
   "metadata": {},
   "outputs": [],
   "source": [
    "start_round = 0\n",
    "num_rounds = 200\n",
    "best_test_acc = 0.0\n",
    "\n",
    "hist_train_loss = []\n",
    "hist_train_acc = []\n",
    "hist_test_loss = []\n",
    "hist_test_acc = []"
   ]
  },
  {
   "cell_type": "code",
   "execution_count": null,
   "id": "0cb469a8",
   "metadata": {},
   "outputs": [],
   "source": [
    "# # Load previous checkpoint if available\n",
    "# collaborative_model.load_state_dict(torch.load(os.path.join(CHECKPOINT_DIR, 'federated_round_80.pth')))\n",
    "\n",
    "# freeze_head(collaborative_model)\n",
    "\n",
    "# # Apply frozen state\n",
    "# for name, param in collaborative_model.named_parameters():\n",
    "#     if name in frozen_state:\n",
    "#         param.requires_grad = False"
   ]
  },
  {
   "cell_type": "code",
   "execution_count": null,
   "id": "eabb06c4",
   "metadata": {},
   "outputs": [],
   "source": [
    "# FedAvg loop\n",
    "for round in range(start_round, start_round + num_rounds):\n",
    "    print(f\"\\n--- Round {round + 1}/{start_round + num_rounds} ---\")\n",
    "\n",
    "    # Select clients\n",
    "    selected_clients = random.sample(range(K), int(C * K))\n",
    "\n",
    "    # Local training\n",
    "    local_models, train_losses, train_accs = [], [], []\n",
    "    for client_id in selected_clients:\n",
    "        model_state, loss, acc = train_on_client(\n",
    "            client_id,\n",
    "            collaborative_model,\n",
    "            train_datasets[client_id],\n",
    "            J,\n",
    "            criterion,\n",
    "            lr = 0.01,\n",
    "            device = device,\n",
    "            mask=client_masks[client_id],\n",
    "            client_dim=assigned_sizes[client_id]\n",
    "        )\n",
    "        local_models.append(model_state)\n",
    "        train_losses.append(loss)\n",
    "        train_accs.append(acc)\n",
    "\n",
    "    # Weighting by dataset size for metrics\n",
    "    client_sample_counts = [len(train_datasets[c]) for c in selected_clients]\n",
    "    total_samples = sum(client_sample_counts)\n",
    "    client_weights_metrics = [count / total_samples for count in client_sample_counts]\n",
    "\n",
    "    # Weighting uniformly\n",
    "    client_weights = [1.0 / len(selected_clients)] * len(selected_clients)\n",
    "\n",
    "    # Federated averaging\n",
    "    trainable_keys = get_trainable_keys(collaborative_model)\n",
    "    averaged_state = average_models(local_models, client_weights, trainable_keys)\n",
    "    new_state = collaborative_model.state_dict()\n",
    "    for key in averaged_state:\n",
    "        new_state[key] = averaged_state[key]\n",
    "    collaborative_model.load_state_dict(new_state)\n",
    "\n",
    "    # Log average training metrics\n",
    "    avg_train_loss = average_metrics(train_losses, client_weights_metrics)\n",
    "    avg_train_acc = average_metrics(train_accs, client_weights_metrics)\n",
    "    print(f\"Avg Train Loss: {avg_train_loss:.4f}, Avg Train Accuracy: {avg_train_acc:.4f}\")\n",
    "    hist_train_loss.append(avg_train_loss)\n",
    "    hist_train_acc.append(avg_train_acc)\n",
    "\n",
    "    if (round + 1) % 5 == 0:\n",
    "        avg_test_loss, avg_test_acc = evaluate(collaborative_model, test_loader, criterion, device)\n",
    "\n",
    "        print(f\"Avg Test Loss: {avg_test_loss:.4f}, Avg Test Accuracy: {avg_test_acc:.4f}\")\n",
    "        hist_test_loss.append(avg_test_loss)\n",
    "        hist_test_acc.append(avg_test_acc)\n",
    "\n",
    "    # Save model each 20 rounds\n",
    "    if (round + 1) % 20 == 0:\n",
    "        checkpoint_path = os.path.join(CHECKPOINT_DIR, f\"federated_unbalance_round_{round + 1}_{N}class_{int(sparsity * 100)}.pth\")\n",
    "        torch.save(collaborative_model.state_dict(), checkpoint_path)"
   ]
  },
  {
   "cell_type": "code",
   "execution_count": null,
   "id": "e9430890",
   "metadata": {},
   "outputs": [],
   "source": [
    "# Plot the training and test loss\n",
    "plt.plot(hist_train_loss, label='Train Loss')\n",
    "plt.plot(hist_test_loss, label='Test Loss')\n",
    "plt.xlabel('Rounds')\n",
    "plt.ylabel('Loss')\n",
    "plt.legend()\n",
    "plt.show()"
   ]
  },
  {
   "cell_type": "code",
   "execution_count": null,
   "id": "b5dccb70",
   "metadata": {},
   "outputs": [],
   "source": [
    "# Plot the training and test accuracy\n",
    "plt.plot(hist_train_acc, label='Train Accuracy')\n",
    "plt.plot(hist_test_acc, label='Test Accuracy')\n",
    "plt.xlabel('Rounds')\n",
    "plt.ylabel('Accuracy')\n",
    "plt.legend()\n",
    "plt.show()"
   ]
  }
 ],
 "metadata": {
  "language_info": {
   "name": "python"
  }
 },
 "nbformat": 4,
 "nbformat_minor": 5
}
